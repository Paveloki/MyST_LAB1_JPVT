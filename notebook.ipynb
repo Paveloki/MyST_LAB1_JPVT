{
 "cells": [
  {
   "cell_type": "markdown",
   "metadata": {
    "collapsed": true,
    "pycharm": {
     "name": "#%% md\n"
    }
   },
   "source": [
    "<img src=\"http://oci02.img.iteso.mx/identidad_de_instancia_2018/ITESO/Logos%20ITESO/Logo-ITESO-Principal.jpg\">"
   ]
  },
  {
   "cell_type": "markdown",
   "source": [
    "<center><font color=#555555><font size=6> Ingeniería Financiera </font> <br> <br>\n",
    "\n",
    "<center><font color=#555555><font size=5> O2021_MAF1731B - Microestructura y Sistemas de Trading </font> <br> <br> <br>\n",
    "\n",
    "<center><font color=#555555><font size=5> I.F. José Pablo Vázquez Tello </font> <br> <br>\n",
    "\n",
    "<center> <font color= #555555> <font size = 4> Septiembre 2021 </a> | <font color= #555555> <font size = 4> Repositorio: <a href='https://github.com/Paveloki/MyST_LAB1_JPVT'>Link</a></font>\n",
    "\n"
   ],
   "metadata": {
    "collapsed": false,
    "pycharm": {
     "name": "#%% md\n"
    }
   }
  },
  {
   "cell_type": "markdown",
   "source": [
    "<center> <font color= #555555> <font size = 7> Laboratorio 1 </font> <br> <br> <font color= #555555> <font size = 5> Inversión de Capital </font>"
   ],
   "metadata": {
    "collapsed": false,
    "pycharm": {
     "name": "#%% md\n"
    }
   }
  },
  {
   "cell_type": "markdown",
   "source": [
    "# <font color= #555555> <font size = 5> Abstract </font>"
   ],
   "metadata": {
    "collapsed": false
   }
  },
  {
   "cell_type": "markdown",
   "source": [
    "<font color= #6B6B6B> <font size = 2> Este documento fue elaborado por José Pablo Vázquez Tello, como un trabajo parcial para la materia de **Microestructura y Sistemas de Trading**, la cual es parte del curriculum de la licenciatura en Ingeniería Financiera, ofertada por la universidad **ITESO**. En el presente trabajo se plantea la respuesta a la siguiente pregunta: *¿Qué estrategia de inversión propondrías si tu trabajo fuera administrar 1 Millón de pesos?*</font>\n"
   ],
   "metadata": {
    "collapsed": false
   }
  },
  {
   "cell_type": "markdown",
   "source": [
    "# <font color= #6B6B6B> <font size = 6> 0. Librerías y Dependencias </font>"
   ],
   "metadata": {
    "collapsed": false
   }
  },
  {
   "cell_type": "markdown",
   "source": [
    "<hr style=\"border:0.02in solid gray\"> </hr>"
   ],
   "metadata": {
    "collapsed": false
   }
  },
  {
   "cell_type": "markdown",
   "source": [
    "# <font color= #6B6B6B> <font size = 5> 0.1 Librerías </font> <font color= #555555>"
   ],
   "metadata": {
    "collapsed": false
   }
  },
  {
   "cell_type": "markdown",
   "source": [
    "Para poder ejecutar el código realizado es requerido tener instaladas las siguientes librerias:\n",
    "* numpy==1.21.2\n",
    "* pandas==1.3.2\n",
    "* pandas-datareader==0.10.0\n",
    "\n",
    "\n"
   ],
   "metadata": {
    "collapsed": false
   }
  },
  {
   "cell_type": "markdown",
   "source": [
    "Dichas librerias podrás encontrarlas en el archivo _requirements.txt_"
   ],
   "metadata": {
    "collapsed": false
   }
  },
  {
   "cell_type": "markdown",
   "source": [
    "# <font color= #6B6B6B> <font size = 5> 0.2 Dependencias </font> <font color= #555555>\n",
    "\n",
    "De igual manera, es necesario tener disponibles los siguientes archivos:\n",
    "* files/NAFTRAC*.csv"
   ],
   "metadata": {
    "collapsed": false
   }
  },
  {
   "cell_type": "markdown",
   "source": [
    "# <font color= #6B6B6B> <font size = 6> 1. Introducción </font>"
   ],
   "metadata": {
    "collapsed": false
   }
  },
  {
   "cell_type": "markdown",
   "source": [
    "<hr style=\"border:0.02in solid gray\"> </hr>"
   ],
   "metadata": {
    "collapsed": false
   }
  },
  {
   "cell_type": "markdown",
   "source": [
    "Para lograr la creación de ambas estrategias, tanto pasiva como activa se utilizó como referencia el ETF llamado NAFTRAC, este es un ETF creado por BlackRock en donde asignan ponderaciones mensuales a los activos de empresas mexicanas. Se hace con estas empresas porque este ETF trata de replicar el comportamiento del índice mexicano más conocido y utilizado (S&P/BMV IPC). Por razones de proyecto se desean analizar dos estrategias, para poder determinar cual estrategia es la mejor."
   ],
   "metadata": {
    "collapsed": false
   }
  },
  {
   "cell_type": "markdown",
   "source": [
    "# <font color= #6B6B6B> <font size = 6> 2. Objetivos </font>"
   ],
   "metadata": {
    "collapsed": false
   }
  },
  {
   "cell_type": "markdown",
   "source": [
    "<hr style=\"border:0.02in solid gray\"> </hr>"
   ],
   "metadata": {
    "collapsed": false
   }
  },
  {
   "cell_type": "markdown",
   "source": [
    "El objetivo principal de este laboratorio es analizar las múltiples formas de como se pueden desarrollar estrategias en base a criterios seleccionados y comparar ambas inversiones, pasiva vs activa del índice."
   ],
   "metadata": {
    "collapsed": false
   }
  },
  {
   "cell_type": "markdown",
   "source": [
    "<br>"
   ],
   "metadata": {
    "collapsed": false,
    "pycharm": {
     "name": "#%% md\n"
    }
   }
  },
  {
   "cell_type": "markdown",
   "source": [
    "# <font color= #6B6B6B> <font size = 6> 3. Datos </font>"
   ],
   "metadata": {
    "collapsed": false
   }
  },
  {
   "cell_type": "markdown",
   "source": [
    "<hr style=\"border:0.02in solid gray\"> </hr>"
   ],
   "metadata": {
    "collapsed": false
   }
  },
  {
   "cell_type": "markdown",
   "source": [
    "Los datos de los precios de las empresas, fueron descargados de la plataforma de Yahoo Finance, se trabajó con los datos de las 33 empresas que se encuentran en el ETF de NAFTRAC, esto quiere decir que son las empresas que según BlackRock, son aquellas que tienen relacion mas importante con el índice S%P/BMV IPC."
   ],
   "metadata": {
    "collapsed": false,
    "pycharm": {
     "name": "#%% md\n"
    }
   }
  },
  {
   "cell_type": "code",
   "execution_count": 2,
   "outputs": [],
   "source": [
    "import data as dt\n",
    "import main as main"
   ],
   "metadata": {
    "collapsed": false,
    "pycharm": {
     "name": "#%%\n"
    }
   }
  },
  {
   "cell_type": "markdown",
   "source": [
    "A continuación, se muestran los datos con los cuales se trabajó. En esta variable se muestran los activos con mas participación dentro del portafolio."
   ],
   "metadata": {
    "collapsed": false,
    "pycharm": {
     "name": "#%% md\n"
    }
   }
  },
  {
   "cell_type": "code",
   "execution_count": 3,
   "outputs": [
    {
     "data": {
      "text/plain": "        Ticker  Peso (%)\n0      AMXL.MX    0.1331\n1  FEMSAUBD.MX    0.1269\n2  GFNORTEO.MX    0.0951\n3    WALMEX.MX    0.0760\n4  GMEXICOB.MX    0.0754\n5  CEMEXCPO.MX    0.0744",
      "text/html": "<div>\n<style scoped>\n    .dataframe tbody tr th:only-of-type {\n        vertical-align: middle;\n    }\n\n    .dataframe tbody tr th {\n        vertical-align: top;\n    }\n\n    .dataframe thead th {\n        text-align: right;\n    }\n</style>\n<table border=\"1\" class=\"dataframe\">\n  <thead>\n    <tr style=\"text-align: right;\">\n      <th></th>\n      <th>Ticker</th>\n      <th>Peso (%)</th>\n    </tr>\n  </thead>\n  <tbody>\n    <tr>\n      <th>0</th>\n      <td>AMXL.MX</td>\n      <td>0.1331</td>\n    </tr>\n    <tr>\n      <th>1</th>\n      <td>FEMSAUBD.MX</td>\n      <td>0.1269</td>\n    </tr>\n    <tr>\n      <th>2</th>\n      <td>GFNORTEO.MX</td>\n      <td>0.0951</td>\n    </tr>\n    <tr>\n      <th>3</th>\n      <td>WALMEX.MX</td>\n      <td>0.0760</td>\n    </tr>\n    <tr>\n      <th>4</th>\n      <td>GMEXICOB.MX</td>\n      <td>0.0754</td>\n    </tr>\n    <tr>\n      <th>5</th>\n      <td>CEMEXCPO.MX</td>\n      <td>0.0744</td>\n    </tr>\n  </tbody>\n</table>\n</div>"
     },
     "execution_count": 3,
     "metadata": {},
     "output_type": "execute_result"
    }
   ],
   "source": [
    "tickers = dt.dataframes.get(\"NAFTRAC_20180131\")\n",
    "tickers.head(6)"
   ],
   "metadata": {
    "collapsed": false,
    "pycharm": {
     "name": "#%%\n"
    }
   }
  },
  {
   "cell_type": "markdown",
   "source": [
    "Me resulta importante el hecho de mostrar los datos mensuales descargados desde Yahoo Finance, para que se de a entender de mejor manera el trabajo realizado."
   ],
   "metadata": {
    "collapsed": false
   }
  },
  {
   "cell_type": "code",
   "execution_count": 5,
   "outputs": [
    {
     "data": {
      "text/plain": "Symbols          AC.MX   ALFAA.MX  ALPEKA.MX   ALSEA.MX    AMXL.MX  \\\nDate                                                                 \n2018-01-31  120.147346  23.192703  26.630966  60.197136  15.813805   \n2018-02-28  116.401924  22.261560  24.211769  63.539227  15.723131   \n\nSymbols       ASURB.MX  BIMBOA.MX   BSMXB.MX  CEMEXCPO.MX  CUERVO.MX  ...  \\\nDate                                                                  ...   \n2018-01-31  351.718445  42.831791  26.421743    15.089149  31.968533  ...   \n2018-02-28  324.345734  41.614761  23.995995    12.135653  32.827698  ...   \n\nSymbols     LIVEPOLC-1.MX  MEGACPO.MX   ORBIA.MX  NEMAKA.MX    OMAB.MX  \\\nDate                                                                     \n2018-01-31     128.836075   76.367264  47.277683  15.364382  81.623917   \n2018-02-28     120.362953   74.824867  47.643829  13.258453  79.149162   \n\nSymbols     PE&OLES.MX   PINFRA.MX  TLEVISACPO.MX  VOLARA.MX  WALMEX.MX  \nDate                                                                     \n2018-01-31  398.036224  175.655960      75.351334  15.930000  43.671349  \n2018-02-28  380.125275  177.129135      63.112366  16.780001  41.494297  \n\n[2 rows x 34 columns]",
      "text/html": "<div>\n<style scoped>\n    .dataframe tbody tr th:only-of-type {\n        vertical-align: middle;\n    }\n\n    .dataframe tbody tr th {\n        vertical-align: top;\n    }\n\n    .dataframe thead th {\n        text-align: right;\n    }\n</style>\n<table border=\"1\" class=\"dataframe\">\n  <thead>\n    <tr style=\"text-align: right;\">\n      <th>Symbols</th>\n      <th>AC.MX</th>\n      <th>ALFAA.MX</th>\n      <th>ALPEKA.MX</th>\n      <th>ALSEA.MX</th>\n      <th>AMXL.MX</th>\n      <th>ASURB.MX</th>\n      <th>BIMBOA.MX</th>\n      <th>BSMXB.MX</th>\n      <th>CEMEXCPO.MX</th>\n      <th>CUERVO.MX</th>\n      <th>...</th>\n      <th>LIVEPOLC-1.MX</th>\n      <th>MEGACPO.MX</th>\n      <th>ORBIA.MX</th>\n      <th>NEMAKA.MX</th>\n      <th>OMAB.MX</th>\n      <th>PE&amp;OLES.MX</th>\n      <th>PINFRA.MX</th>\n      <th>TLEVISACPO.MX</th>\n      <th>VOLARA.MX</th>\n      <th>WALMEX.MX</th>\n    </tr>\n    <tr>\n      <th>Date</th>\n      <th></th>\n      <th></th>\n      <th></th>\n      <th></th>\n      <th></th>\n      <th></th>\n      <th></th>\n      <th></th>\n      <th></th>\n      <th></th>\n      <th></th>\n      <th></th>\n      <th></th>\n      <th></th>\n      <th></th>\n      <th></th>\n      <th></th>\n      <th></th>\n      <th></th>\n      <th></th>\n      <th></th>\n    </tr>\n  </thead>\n  <tbody>\n    <tr>\n      <th>2018-01-31</th>\n      <td>120.147346</td>\n      <td>23.192703</td>\n      <td>26.630966</td>\n      <td>60.197136</td>\n      <td>15.813805</td>\n      <td>351.718445</td>\n      <td>42.831791</td>\n      <td>26.421743</td>\n      <td>15.089149</td>\n      <td>31.968533</td>\n      <td>...</td>\n      <td>128.836075</td>\n      <td>76.367264</td>\n      <td>47.277683</td>\n      <td>15.364382</td>\n      <td>81.623917</td>\n      <td>398.036224</td>\n      <td>175.655960</td>\n      <td>75.351334</td>\n      <td>15.930000</td>\n      <td>43.671349</td>\n    </tr>\n    <tr>\n      <th>2018-02-28</th>\n      <td>116.401924</td>\n      <td>22.261560</td>\n      <td>24.211769</td>\n      <td>63.539227</td>\n      <td>15.723131</td>\n      <td>324.345734</td>\n      <td>41.614761</td>\n      <td>23.995995</td>\n      <td>12.135653</td>\n      <td>32.827698</td>\n      <td>...</td>\n      <td>120.362953</td>\n      <td>74.824867</td>\n      <td>47.643829</td>\n      <td>13.258453</td>\n      <td>79.149162</td>\n      <td>380.125275</td>\n      <td>177.129135</td>\n      <td>63.112366</td>\n      <td>16.780001</td>\n      <td>41.494297</td>\n    </tr>\n  </tbody>\n</table>\n<p>2 rows × 34 columns</p>\n</div>"
     },
     "execution_count": 5,
     "metadata": {},
     "output_type": "execute_result"
    }
   ],
   "source": [
    "dt.precios_mensuales.head(2)\n"
   ],
   "metadata": {
    "collapsed": false,
    "pycharm": {
     "name": "#%%\n"
    }
   }
  },
  {
   "cell_type": "markdown",
   "source": [
    "# <font color= #6B6B6B> <font size = 6> 4. Procesos </font>"
   ],
   "metadata": {
    "collapsed": false
   }
  },
  {
   "cell_type": "markdown",
   "source": [
    "<hr style=\"border:0.02in solid gray\"> </hr>"
   ],
   "metadata": {
    "collapsed": false
   }
  },
  {
   "cell_type": "markdown",
   "source": [
    "### Inversión Pasiva\n",
    "\n",
    "Comenzamos con definir nuestro capital inicial de 1,000,000.00 de pesos. Armamos nuestro portafolio con las ponderaciones antes mostradas.\n",
    "\n",
    "Se debe multiplicar el capital inicial por su respectiva ponderación, para tener la cantidad de dinero a invertir en cada uno de los activos registrados en el ETF."
   ],
   "metadata": {
    "collapsed": false
   }
  },
  {
   "cell_type": "code",
   "execution_count": 7,
   "outputs": [
    {
     "data": {
      "text/plain": "0    133100.0\n1    126900.0\n2     95100.0\nName: Peso (%), dtype: float64"
     },
     "execution_count": 7,
     "metadata": {},
     "output_type": "execute_result"
    }
   ],
   "source": [
    "main.pond_money[:3]"
   ],
   "metadata": {
    "collapsed": false,
    "pycharm": {
     "name": "#%%\n"
    }
   }
  },
  {
   "cell_type": "markdown",
   "source": [
    "En este caso estamos visualizando la operación realizada con las empresas de:\n",
    "- America Movil (AMXL.MX)\n",
    "- Fomento Economico Mexicano (FEMSAUBD.MX)\n",
    "- Grupo Financiero Banorte (GFNORTEO.MX)"
   ],
   "metadata": {
    "collapsed": false
   }
  },
  {
   "cell_type": "markdown",
   "source": [
    "<br>"
   ],
   "metadata": {
    "collapsed": false,
    "pycharm": {
     "name": "#%% md\n"
    }
   }
  },
  {
   "cell_type": "markdown",
   "source": [
    "Se divide la cantidad a invertir de cada uno de los activos entre el precio de cada acción. Obtenemos el número de títulos a comprar.\n",
    "\n",
    "Calculamos las comisiones a pagar por la compra de los títulos.\n",
    "\n",
    "Procedemos con calcular el valro del portafolio inicial, multiplicando el número de títulos de cada acción por su precio, sumando la cuenta de cash (esta es el resultado restante de la operación pasada, en pocas palabras efectivo sobrante).\n",
    "\n",
    "En el siguiente DataFrame se muestran los resultados de la evolución del capital con el paso del tiempo, los rendimientos y los rendimientos acumulados."
   ],
   "metadata": {
    "collapsed": false
   }
  },
  {
   "cell_type": "code",
   "execution_count": 9,
   "outputs": [
    {
     "data": {
      "text/plain": "   Timestamp        Capital      Rend  Rend_acum  Ganancia/Perdida $\n0 2018-01-31  999999.998750  0.000000   0.000000           -0.001250\n1 2018-02-28  930362.352748 -0.069638  -0.069638       -69637.647252\n2 2018-03-31  912236.911977 -0.019482  -0.087763       -87763.088023\n3 2018-04-30  951744.304669  0.043308  -0.048256       -48255.695331\n4 2018-05-31  895381.784521 -0.059220  -0.104618      -104618.215479",
      "text/html": "<div>\n<style scoped>\n    .dataframe tbody tr th:only-of-type {\n        vertical-align: middle;\n    }\n\n    .dataframe tbody tr th {\n        vertical-align: top;\n    }\n\n    .dataframe thead th {\n        text-align: right;\n    }\n</style>\n<table border=\"1\" class=\"dataframe\">\n  <thead>\n    <tr style=\"text-align: right;\">\n      <th></th>\n      <th>Timestamp</th>\n      <th>Capital</th>\n      <th>Rend</th>\n      <th>Rend_acum</th>\n      <th>Ganancia/Perdida $</th>\n    </tr>\n  </thead>\n  <tbody>\n    <tr>\n      <th>0</th>\n      <td>2018-01-31</td>\n      <td>999999.998750</td>\n      <td>0.000000</td>\n      <td>0.000000</td>\n      <td>-0.001250</td>\n    </tr>\n    <tr>\n      <th>1</th>\n      <td>2018-02-28</td>\n      <td>930362.352748</td>\n      <td>-0.069638</td>\n      <td>-0.069638</td>\n      <td>-69637.647252</td>\n    </tr>\n    <tr>\n      <th>2</th>\n      <td>2018-03-31</td>\n      <td>912236.911977</td>\n      <td>-0.019482</td>\n      <td>-0.087763</td>\n      <td>-87763.088023</td>\n    </tr>\n    <tr>\n      <th>3</th>\n      <td>2018-04-30</td>\n      <td>951744.304669</td>\n      <td>0.043308</td>\n      <td>-0.048256</td>\n      <td>-48255.695331</td>\n    </tr>\n    <tr>\n      <th>4</th>\n      <td>2018-05-31</td>\n      <td>895381.784521</td>\n      <td>-0.059220</td>\n      <td>-0.104618</td>\n      <td>-104618.215479</td>\n    </tr>\n  </tbody>\n</table>\n</div>"
     },
     "execution_count": 9,
     "metadata": {},
     "output_type": "execute_result"
    }
   ],
   "source": [
    "import visualizations as vs\n",
    "vs.df.head()\n"
   ],
   "metadata": {
    "collapsed": false,
    "pycharm": {
     "name": "#%%\n"
    }
   }
  }
 ],
 "metadata": {
  "kernelspec": {
   "display_name": "Python 3",
   "language": "python",
   "name": "python3"
  },
  "language_info": {
   "codemirror_mode": {
    "name": "ipython",
    "version": 2
   },
   "file_extension": ".py",
   "mimetype": "text/x-python",
   "name": "python",
   "nbconvert_exporter": "python",
   "pygments_lexer": "ipython2",
   "version": "2.7.6"
  }
 },
 "nbformat": 4,
 "nbformat_minor": 0
}